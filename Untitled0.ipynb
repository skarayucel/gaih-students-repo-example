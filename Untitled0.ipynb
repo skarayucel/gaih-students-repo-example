{
  "nbformat": 4,
  "nbformat_minor": 0,
  "metadata": {
    "colab": {
      "name": "Untitled0.ipynb",
      "provenance": [],
      "authorship_tag": "ABX9TyONqgfLYjctk4rRkCs7roOS",
      "include_colab_link": true
    },
    "kernelspec": {
      "name": "python3",
      "display_name": "Python 3"
    }
  },
  "cells": [
    {
      "cell_type": "markdown",
      "metadata": {
        "id": "view-in-github",
        "colab_type": "text"
      },
      "source": [
        "<a href=\"https://colab.research.google.com/github/skarayucel/gaih-students-repo-example/blob/main/Untitled0.ipynb\" target=\"_parent\"><img src=\"https://colab.research.google.com/assets/colab-badge.svg\" alt=\"Open In Colab\"/></a>"
      ]
    },
    {
      "cell_type": "code",
      "metadata": {
        "colab": {
          "base_uri": "https://localhost:8080/"
        },
        "id": "Lzk3N--4Y-KX",
        "outputId": "db280015-fcb2-4ac6-83a4-e876798bf3f7"
      },
      "source": [
        "print('Hello World')"
      ],
      "execution_count": 9,
      "outputs": [
        {
          "output_type": "stream",
          "text": [
            "Hello World\n"
          ],
          "name": "stdout"
        }
      ]
    },
    {
      "cell_type": "code",
      "metadata": {
        "colab": {
          "base_uri": "https://localhost:8080/"
        },
        "id": "X1xFdJ2HZKW0",
        "outputId": "3a89c524-34f4-4d7a-f971-a8cabcd11487"
      },
      "source": [
        "!python --version"
      ],
      "execution_count": 10,
      "outputs": [
        {
          "output_type": "stream",
          "text": [
            "Python 3.6.9\n"
          ],
          "name": "stdout"
        }
      ]
    },
    {
      "cell_type": "code",
      "metadata": {
        "colab": {
          "base_uri": "https://localhost:8080/"
        },
        "id": "GRT0eRP8Zjr7",
        "outputId": "47141ef9-56ae-4fcb-e89e-b6a97b0fe4c8"
      },
      "source": [
        "n = 7\r\n",
        "print(n)"
      ],
      "execution_count": 11,
      "outputs": [
        {
          "output_type": "stream",
          "text": [
            "7\n"
          ],
          "name": "stdout"
        }
      ]
    },
    {
      "cell_type": "code",
      "metadata": {
        "id": "he0DwfSz-VFb"
      },
      "source": [
        ""
      ],
      "execution_count": 11,
      "outputs": []
    },
    {
      "cell_type": "code",
      "metadata": {
        "colab": {
          "base_uri": "https://localhost:8080/"
        },
        "id": "wVauayTvZ_8q",
        "outputId": "1f1dc606-163c-4890-af8f-67e8407ef95c"
      },
      "source": [
        "#type()\r\n",
        "type(n)"
      ],
      "execution_count": 12,
      "outputs": [
        {
          "output_type": "execute_result",
          "data": {
            "text/plain": [
              "int"
            ]
          },
          "metadata": {
            "tags": []
          },
          "execution_count": 12
        }
      ]
    },
    {
      "cell_type": "code",
      "metadata": {
        "colab": {
          "base_uri": "https://localhost:8080/"
        },
        "id": "plFfwmuAerti",
        "outputId": "f93d090b-078c-45db-ea36-f9ea5eeffe1e"
      },
      "source": [
        "print(type(n))"
      ],
      "execution_count": 14,
      "outputs": [
        {
          "output_type": "stream",
          "text": [
            "<class 'int'>\n"
          ],
          "name": "stdout"
        }
      ]
    },
    {
      "cell_type": "code",
      "metadata": {
        "colab": {
          "base_uri": "https://localhost:8080/"
        },
        "id": "0gp20R43e35m",
        "outputId": "7ed1c439-c3fa-4403-a56e-0c78ba9b0662"
      },
      "source": [
        "type('x')"
      ],
      "execution_count": 15,
      "outputs": [
        {
          "output_type": "execute_result",
          "data": {
            "text/plain": [
              "str"
            ]
          },
          "metadata": {
            "tags": []
          },
          "execution_count": 15
        }
      ]
    },
    {
      "cell_type": "code",
      "metadata": {
        "colab": {
          "base_uri": "https://localhost:8080/"
        },
        "id": "6Dx_-Q1rfoBu",
        "outputId": "fb8a7ec7-5674-497c-ddfa-29e08bc2a6e9"
      },
      "source": [
        "type(77)"
      ],
      "execution_count": 16,
      "outputs": [
        {
          "output_type": "execute_result",
          "data": {
            "text/plain": [
              "int"
            ]
          },
          "metadata": {
            "tags": []
          },
          "execution_count": 16
        }
      ]
    },
    {
      "cell_type": "code",
      "metadata": {
        "colab": {
          "base_uri": "https://localhost:8080/",
          "height": 35
        },
        "id": "9wQA4bpx-sna",
        "outputId": "f15e8d53-efe1-4c63-f327-fe8bccc27b22"
      },
      "source": [
        "'SÜLEYMAN'*3"
      ],
      "execution_count": 17,
      "outputs": [
        {
          "output_type": "execute_result",
          "data": {
            "application/vnd.google.colaboratory.intrinsic+json": {
              "type": "string"
            },
            "text/plain": [
              "'SÜLEYMANSÜLEYMANSÜLEYMAN'"
            ]
          },
          "metadata": {
            "tags": []
          },
          "execution_count": 17
        }
      ]
    },
    {
      "cell_type": "code",
      "metadata": {
        "colab": {
          "base_uri": "https://localhost:8080/"
        },
        "id": "crcZHlWOANdQ",
        "outputId": "c99a936e-53a4-44d4-ef28-7f0b2cf5a960"
      },
      "source": [
        "x = 7\r\n",
        "\r\n",
        "print(x-2)\r\n",
        "print(x+1)\r\n",
        "print(x**2)\r\n",
        "print(x**4)"
      ],
      "execution_count": 18,
      "outputs": [
        {
          "output_type": "stream",
          "text": [
            "5\n",
            "8\n",
            "49\n",
            "2401\n"
          ],
          "name": "stdout"
        }
      ]
    },
    {
      "cell_type": "code",
      "metadata": {
        "colab": {
          "base_uri": "https://localhost:8080/"
        },
        "id": "UuVFVaNQAkjn",
        "outputId": "b976f213-21eb-49d1-a21a-4ea7b716cba3"
      },
      "source": [
        "print(x%2)"
      ],
      "execution_count": 19,
      "outputs": [
        {
          "output_type": "stream",
          "text": [
            "1\n"
          ],
          "name": "stdout"
        }
      ]
    },
    {
      "cell_type": "code",
      "metadata": {
        "colab": {
          "base_uri": "https://localhost:8080/"
        },
        "id": "w6j0nNEtDbDi",
        "outputId": "4bf64953-15a1-469e-c409-c2014aacd44d"
      },
      "source": [
        "print(x//2)"
      ],
      "execution_count": 20,
      "outputs": [
        {
          "output_type": "stream",
          "text": [
            "3\n"
          ],
          "name": "stdout"
        }
      ]
    },
    {
      "cell_type": "code",
      "metadata": {
        "colab": {
          "base_uri": "https://localhost:8080/"
        },
        "id": "HGVZDIHREfrP",
        "outputId": "2e2e1ed0-a2d6-403f-9b64-ada2245f920c"
      },
      "source": [
        "t = True\r\n",
        "f= False\r\n",
        "print(t)\r\n",
        "print(f)\r\n",
        "print(t or f)\r\n",
        "print(t and f)\r\n",
        "print(not t)\r\n",
        "print(t != f)\r\n",
        "print(t == f)"
      ],
      "execution_count": 23,
      "outputs": [
        {
          "output_type": "stream",
          "text": [
            "True\n",
            "False\n",
            "True\n",
            "False\n",
            "False\n",
            "True\n",
            "False\n"
          ],
          "name": "stdout"
        }
      ]
    },
    {
      "cell_type": "code",
      "metadata": {
        "colab": {
          "base_uri": "https://localhost:8080/"
        },
        "id": "C825tTQXHLT2",
        "outputId": "e3965aa3-f174-462a-bcbc-b88aea7a5843"
      },
      "source": [
        "s = 'süleyman'\r\n",
        "print(s)\r\n",
        "print(s[0])\r\n",
        "print(s[1])\r\n",
        "print(s[5])\r\n",
        "print(s[-2])\r\n",
        "print(s[-5])"
      ],
      "execution_count": 24,
      "outputs": [
        {
          "output_type": "stream",
          "text": [
            "süleyman\n",
            "s\n",
            "ü\n",
            "m\n",
            "a\n",
            "e\n"
          ],
          "name": "stdout"
        }
      ]
    },
    {
      "cell_type": "code",
      "metadata": {
        "colab": {
          "base_uri": "https://localhost:8080/",
          "height": 35
        },
        "id": "t5K7DDx-IuWl",
        "outputId": "503b6c60-e99e-42c9-978f-603b264ad460"
      },
      "source": [
        "s[0:8]"
      ],
      "execution_count": 29,
      "outputs": [
        {
          "output_type": "execute_result",
          "data": {
            "application/vnd.google.colaboratory.intrinsic+json": {
              "type": "string"
            },
            "text/plain": [
              "'süleyman'"
            ]
          },
          "metadata": {
            "tags": []
          },
          "execution_count": 29
        }
      ]
    },
    {
      "cell_type": "code",
      "metadata": {
        "colab": {
          "base_uri": "https://localhost:8080/",
          "height": 35
        },
        "id": "IYdEyJDRI-rk",
        "outputId": "2ca06903-7613-4f28-89ca-e0feb3030b6f"
      },
      "source": [
        "s[1:5]"
      ],
      "execution_count": 31,
      "outputs": [
        {
          "output_type": "execute_result",
          "data": {
            "application/vnd.google.colaboratory.intrinsic+json": {
              "type": "string"
            },
            "text/plain": [
              "'üley'"
            ]
          },
          "metadata": {
            "tags": []
          },
          "execution_count": 31
        }
      ]
    },
    {
      "cell_type": "code",
      "metadata": {
        "colab": {
          "base_uri": "https://localhost:8080/"
        },
        "id": "wN0skcMLJJC_",
        "outputId": "85f8b485-1186-4181-a1d5-c09ee857f09b"
      },
      "source": [
        "print(s[1:3])\r\n",
        "print(s[2:5])\r\n",
        "print(s[3:8])"
      ],
      "execution_count": 32,
      "outputs": [
        {
          "output_type": "stream",
          "text": [
            "ül\n",
            "ley\n",
            "eyman\n"
          ],
          "name": "stdout"
        }
      ]
    },
    {
      "cell_type": "code",
      "metadata": {
        "colab": {
          "base_uri": "https://localhost:8080/",
          "height": 35
        },
        "id": "LQe2uY2UKUdC",
        "outputId": "cf0bc5c5-ebc2-4b55-a450-6e1803beb5e8"
      },
      "source": [
        "s[4:]"
      ],
      "execution_count": 33,
      "outputs": [
        {
          "output_type": "execute_result",
          "data": {
            "application/vnd.google.colaboratory.intrinsic+json": {
              "type": "string"
            },
            "text/plain": [
              "'yman'"
            ]
          },
          "metadata": {
            "tags": []
          },
          "execution_count": 33
        }
      ]
    },
    {
      "cell_type": "code",
      "metadata": {
        "colab": {
          "base_uri": "https://localhost:8080/",
          "height": 35
        },
        "id": "v7LrXt4lKaSM",
        "outputId": "4501aad7-13f4-49fb-b7c6-622c2eb489df"
      },
      "source": [
        "s[:4]"
      ],
      "execution_count": 34,
      "outputs": [
        {
          "output_type": "execute_result",
          "data": {
            "application/vnd.google.colaboratory.intrinsic+json": {
              "type": "string"
            },
            "text/plain": [
              "'süle'"
            ]
          },
          "metadata": {
            "tags": []
          },
          "execution_count": 34
        }
      ]
    },
    {
      "cell_type": "code",
      "metadata": {
        "colab": {
          "base_uri": "https://localhost:8080/",
          "height": 35
        },
        "id": "qmrSYxLDKjK1",
        "outputId": "671aec85-2529-42d4-a414-824ee3a1f795"
      },
      "source": [
        "s[::-1]"
      ],
      "execution_count": 35,
      "outputs": [
        {
          "output_type": "execute_result",
          "data": {
            "application/vnd.google.colaboratory.intrinsic+json": {
              "type": "string"
            },
            "text/plain": [
              "'namyelüs'"
            ]
          },
          "metadata": {
            "tags": []
          },
          "execution_count": 35
        }
      ]
    },
    {
      "cell_type": "code",
      "metadata": {
        "colab": {
          "base_uri": "https://localhost:8080/",
          "height": 35
        },
        "id": "mnRjwWtQKxu0",
        "outputId": "aece1265-d06b-4eab-83ce-a2e10d2d6890"
      },
      "source": [
        "s[2:5:1]"
      ],
      "execution_count": 36,
      "outputs": [
        {
          "output_type": "execute_result",
          "data": {
            "application/vnd.google.colaboratory.intrinsic+json": {
              "type": "string"
            },
            "text/plain": [
              "'ley'"
            ]
          },
          "metadata": {
            "tags": []
          },
          "execution_count": 36
        }
      ]
    },
    {
      "cell_type": "code",
      "metadata": {
        "colab": {
          "base_uri": "https://localhost:8080/",
          "height": 35
        },
        "id": "vF873cZCK28N",
        "outputId": "3ad66217-2169-4fd7-8669-24ff6a27952f"
      },
      "source": [
        "s[0:8:2]"
      ],
      "execution_count": 37,
      "outputs": [
        {
          "output_type": "execute_result",
          "data": {
            "application/vnd.google.colaboratory.intrinsic+json": {
              "type": "string"
            },
            "text/plain": [
              "'slya'"
            ]
          },
          "metadata": {
            "tags": []
          },
          "execution_count": 37
        }
      ]
    },
    {
      "cell_type": "code",
      "metadata": {
        "colab": {
          "base_uri": "https://localhost:8080/"
        },
        "id": "q6gDt3GwLe6y",
        "outputId": "c44d3148-bc62-45cc-8239-ae04ea9d4c5e"
      },
      "source": [
        "'ü' in s"
      ],
      "execution_count": 38,
      "outputs": [
        {
          "output_type": "execute_result",
          "data": {
            "text/plain": [
              "True"
            ]
          },
          "metadata": {
            "tags": []
          },
          "execution_count": 38
        }
      ]
    },
    {
      "cell_type": "code",
      "metadata": {
        "colab": {
          "base_uri": "https://localhost:8080/"
        },
        "id": "QMxwjVocLkHr",
        "outputId": "eabcc982-bee6-4873-fdc2-51e12c62965f"
      },
      "source": [
        "'s' in s"
      ],
      "execution_count": 39,
      "outputs": [
        {
          "output_type": "execute_result",
          "data": {
            "text/plain": [
              "True"
            ]
          },
          "metadata": {
            "tags": []
          },
          "execution_count": 39
        }
      ]
    },
    {
      "cell_type": "code",
      "metadata": {
        "id": "yqO36uTNL_DA"
      },
      "source": [
        ""
      ],
      "execution_count": 43,
      "outputs": []
    },
    {
      "cell_type": "code",
      "metadata": {
        "id": "cBehSTWDL_lU"
      },
      "source": [
        ""
      ],
      "execution_count": 43,
      "outputs": []
    },
    {
      "cell_type": "code",
      "metadata": {
        "id": "PdZvdvfyMCzC"
      },
      "source": [
        ""
      ],
      "execution_count": null,
      "outputs": []
    },
    {
      "cell_type": "code",
      "metadata": {
        "colab": {
          "base_uri": "https://localhost:8080/"
        },
        "id": "dVueHr4aLoF6",
        "outputId": "e5652918-7064-4c15-c81d-5eb45e51d921"
      },
      "source": [
        "'ül' in s"
      ],
      "execution_count": 42,
      "outputs": [
        {
          "output_type": "execute_result",
          "data": {
            "text/plain": [
              "True"
            ]
          },
          "metadata": {
            "tags": []
          },
          "execution_count": 42
        }
      ]
    },
    {
      "cell_type": "code",
      "metadata": {
        "colab": {
          "base_uri": "https://localhost:8080/"
        },
        "id": "hx30Yg6sLxiE",
        "outputId": "ced93537-2658-45b9-ec8e-800c44f29ab2"
      },
      "source": [
        "'u' in s"
      ],
      "execution_count": 43,
      "outputs": [
        {
          "output_type": "execute_result",
          "data": {
            "text/plain": [
              "False"
            ]
          },
          "metadata": {
            "tags": []
          },
          "execution_count": 43
        }
      ]
    },
    {
      "cell_type": "code",
      "metadata": {
        "colab": {
          "base_uri": "https://localhost:8080/",
          "height": 35
        },
        "id": "UL08e6_dMD4C",
        "outputId": "76e2618a-3f5b-49cb-edae-959cc5745018"
      },
      "source": [
        "str(s)"
      ],
      "execution_count": 44,
      "outputs": [
        {
          "output_type": "execute_result",
          "data": {
            "application/vnd.google.colaboratory.intrinsic+json": {
              "type": "string"
            },
            "text/plain": [
              "'süleyman'"
            ]
          },
          "metadata": {
            "tags": []
          },
          "execution_count": 44
        }
      ]
    },
    {
      "cell_type": "code",
      "metadata": {
        "colab": {
          "base_uri": "https://localhost:8080/"
        },
        "id": "q-lU0gqSMIpF",
        "outputId": "e2769827-f162-43e7-c932-6a4985f55ace"
      },
      "source": [
        "matrix = '2' + '   ' + '3' + '   ' + '5' + '\\n' + '7' + '   ' + '11' + '  ' + '13' + '\\n' + '17' + '  ' + '19' + '  ' + '23'\r\n",
        "print(matrix)"
      ],
      "execution_count": 54,
      "outputs": [
        {
          "output_type": "stream",
          "text": [
            "2   3   5\n",
            "7   11  13\n",
            "17  19  23\n"
          ],
          "name": "stdout"
        }
      ]
    }
  ]
}